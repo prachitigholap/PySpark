{
  "nbformat": 4,
  "nbformat_minor": 0,
  "metadata": {
    "colab": {
      "provenance": []
    },
    "kernelspec": {
      "name": "python3",
      "display_name": "Python 3"
    },
    "language_info": {
      "name": "python"
    }
  },
  "cells": [
    {
      "cell_type": "code",
      "execution_count": null,
      "metadata": {
        "id": "WbRnOGPy7IbP"
      },
      "outputs": [],
      "source": [
        "#importing Libraries\n",
        "import pyspark.sql.types as T\n",
        "import pyspark.sql.functions as F"
      ]
    },
    {
      "cell_type": "code",
      "source": [
        "# import all\n",
        "from pyspark.sql.types import *\n",
        "from pyspark.sql.functions import *\n",
        "\n",
        "# import select functions and types\n",
        "from pyspark.sql.types import IntegerType, StringType\n",
        "from pyspark.sql.functions import floor, round\n",
        "from pyspark.sql.functions import count"
      ],
      "metadata": {
        "id": "KsPvSeXr7O54"
      },
      "execution_count": null,
      "outputs": []
    },
    {
      "cell_type": "code",
      "source": [
        "# importing sparks session\n",
        "from pyspark.sql import SparkSession"
      ],
      "metadata": {
        "id": "t4vX_qnF-2-n"
      },
      "execution_count": null,
      "outputs": []
    },
    {
      "cell_type": "code",
      "source": [
        "# creating spark session\n",
        "spark = SparkSession.builder.appName(\"MySparkApp\").getOrCreate()"
      ],
      "metadata": {
        "id": "zB6QI_6E-5DI"
      },
      "execution_count": null,
      "outputs": []
    },
    {
      "cell_type": "code",
      "source": [
        "# creating a dataframe\n",
        "test = spark.createDataFrame(\n",
        "    data = [(\"Prachiti\", \"Data Analyst\"), (\"Jayant Kumar\", \"data Analyst\")],\n",
        "    schema = [\"name\", \"role\"]\n",
        ")"
      ],
      "metadata": {
        "id": "DaZNUCGA7jvm"
      },
      "execution_count": null,
      "outputs": []
    },
    {
      "cell_type": "code",
      "source": [
        "display(test)"
      ],
      "metadata": {
        "colab": {
          "base_uri": "https://localhost:8080/",
          "height": 34
        },
        "id": "jlWD2UMd-s3I",
        "outputId": "43b10fbb-5ffe-477a-9918-502ad7aff1d2"
      },
      "execution_count": null,
      "outputs": [
        {
          "output_type": "display_data",
          "data": {
            "text/plain": [
              "DataFrame[name: string, role: string]"
            ]
          },
          "metadata": {}
        }
      ]
    },
    {
      "cell_type": "code",
      "source": [
        "# reading csv and loading it into a dataframe\n",
        "df_csv = (spark.read\n",
        "  .format(\"csv\")\n",
        "  .option(\"header\", True)\n",
        "  .option(\"inferSchema\", True)\n",
        "  .load(\"/content/sample_data/california_housing_test.csv\")\n",
        ")\n",
        "display(df_csv )"
      ],
      "metadata": {
        "colab": {
          "base_uri": "https://localhost:8080/",
          "height": 52
        },
        "id": "yb5pYS5qAJnt",
        "outputId": "261f3948-cc75-45e0-fb66-3334d2a96998"
      },
      "execution_count": null,
      "outputs": [
        {
          "output_type": "display_data",
          "data": {
            "text/plain": [
              "DataFrame[longitude: double, latitude: double, housing_median_age: double, total_rooms: double, total_bedrooms: double, population: double, households: double, median_income: double, median_house_value: double]"
            ]
          },
          "metadata": {}
        }
      ]
    },
    {
      "cell_type": "markdown",
      "source": [
        "# Column Operations"
      ],
      "metadata": {
        "id": "ITPzVNKwSsn7"
      }
    },
    {
      "cell_type": "code",
      "source": [
        "# selecting columns from a dataframe\n",
        "df_csv.select(\n",
        "    col('longitude'),\n",
        "    col('latitude'),\n",
        "    col('housing_median_age'),\n",
        "    col('total_rooms'),\n",
        "    col('total_bedrooms'),\n",
        "    col('population'),\n",
        "    col('households'),\n",
        "    col('median_income'),\n",
        "    col('median_house_value')\n",
        ")"
      ],
      "metadata": {
        "colab": {
          "base_uri": "https://localhost:8080/"
        },
        "id": "Ixstbi80AtA_",
        "outputId": "58cf87bb-820e-4a9d-94b3-e64aa12f942e"
      },
      "execution_count": null,
      "outputs": [
        {
          "output_type": "execute_result",
          "data": {
            "text/plain": [
              "DataFrame[longitude: double, latitude: double, housing_median_age: double, total_rooms: double, total_bedrooms: double, population: double, households: double, median_income: double, median_house_value: double]"
            ]
          },
          "metadata": {},
          "execution_count": 9
        }
      ]
    },
    {
      "cell_type": "code",
      "source": [
        "# displating 3 rows from a dataframe\n",
        "df_csv.show(3)"
      ],
      "metadata": {
        "colab": {
          "base_uri": "https://localhost:8080/"
        },
        "id": "b77HxzCTBh-N",
        "outputId": "8ca75973-3f15-4c8d-888b-924588b0088d"
      },
      "execution_count": null,
      "outputs": [
        {
          "output_type": "stream",
          "name": "stdout",
          "text": [
            "+---------+--------+------------------+-----------+--------------+----------+----------+-------------+------------------+\n",
            "|longitude|latitude|housing_median_age|total_rooms|total_bedrooms|population|households|median_income|median_house_value|\n",
            "+---------+--------+------------------+-----------+--------------+----------+----------+-------------+------------------+\n",
            "|  -122.05|   37.37|              27.0|     3885.0|         661.0|    1537.0|     606.0|       6.6085|          344700.0|\n",
            "|   -118.3|   34.26|              43.0|     1510.0|         310.0|     809.0|     277.0|        3.599|          176500.0|\n",
            "|  -117.81|   33.78|              27.0|     3589.0|         507.0|    1484.0|     495.0|       5.7934|          270500.0|\n",
            "+---------+--------+------------------+-----------+--------------+----------+----------+-------------+------------------+\n",
            "only showing top 3 rows\n",
            "\n"
          ]
        }
      ]
    },
    {
      "cell_type": "code",
      "source": [
        "# creating a column in dataframe\n",
        "df_transformed = df_csv.withColumn(\"top_house_value\", col(\"median_house_value\") > 176500)\n",
        "df_transformed.show(3)"
      ],
      "metadata": {
        "colab": {
          "base_uri": "https://localhost:8080/"
        },
        "id": "kCAiiBuTB6WS",
        "outputId": "1d9d7a8a-aaf6-41e4-99b5-69dd92376ff2"
      },
      "execution_count": null,
      "outputs": [
        {
          "output_type": "stream",
          "name": "stdout",
          "text": [
            "+---------+--------+------------------+-----------+--------------+----------+----------+-------------+------------------+---------------+\n",
            "|longitude|latitude|housing_median_age|total_rooms|total_bedrooms|population|households|median_income|median_house_value|top_house_value|\n",
            "+---------+--------+------------------+-----------+--------------+----------+----------+-------------+------------------+---------------+\n",
            "|  -122.05|   37.37|              27.0|     3885.0|         661.0|    1537.0|     606.0|       6.6085|          344700.0|           true|\n",
            "|   -118.3|   34.26|              43.0|     1510.0|         310.0|     809.0|     277.0|        3.599|          176500.0|          false|\n",
            "|  -117.81|   33.78|              27.0|     3589.0|         507.0|    1484.0|     495.0|       5.7934|          270500.0|           true|\n",
            "+---------+--------+------------------+-----------+--------------+----------+----------+-------------+------------------+---------------+\n",
            "only showing top 3 rows\n",
            "\n"
          ]
        }
      ]
    },
    {
      "cell_type": "code",
      "source": [
        "# applying filters in a dataframe using AND operator\n",
        "df_transformed = df_transformed.filter((col(\"top_house_value\") == True) & (col(\"population\") >= 1000))\n",
        "df_transformed.show(5)"
      ],
      "metadata": {
        "colab": {
          "base_uri": "https://localhost:8080/"
        },
        "id": "s6d5l54kFHYy",
        "outputId": "3dc39360-4e77-489f-d7a9-0286bbd34792"
      },
      "execution_count": null,
      "outputs": [
        {
          "output_type": "stream",
          "name": "stdout",
          "text": [
            "+---------+--------+------------------+-----------+--------------+----------+----------+-------------+------------------+---------------+\n",
            "|longitude|latitude|housing_median_age|total_rooms|total_bedrooms|population|households|median_income|median_house_value|top_house_value|\n",
            "+---------+--------+------------------+-----------+--------------+----------+----------+-------------+------------------+---------------+\n",
            "|  -122.05|   37.37|              27.0|     3885.0|         661.0|    1537.0|     606.0|       6.6085|          344700.0|           true|\n",
            "|  -117.81|   33.78|              27.0|     3589.0|         507.0|    1484.0|     495.0|       5.7934|          270500.0|           true|\n",
            "|  -122.84|    38.4|              15.0|     3080.0|         617.0|    1446.0|     599.0|       3.6696|          194400.0|           true|\n",
            "|  -117.03|   32.97|              16.0|     3936.0|         694.0|    1935.0|     659.0|       4.5625|          231200.0|           true|\n",
            "|  -117.97|   33.73|              27.0|     2097.0|         325.0|    1217.0|     331.0|       5.7121|          222500.0|           true|\n",
            "+---------+--------+------------------+-----------+--------------+----------+----------+-------------+------------------+---------------+\n",
            "only showing top 5 rows\n",
            "\n"
          ]
        }
      ]
    },
    {
      "cell_type": "code",
      "source": [
        "# applying filters using OR operator\n",
        "df_transformed = df_transformed.filter((col(\"housing_median_age\") > 16) | (col(\"total_bedrooms\") > 617))\n",
        "df_transformed.show(3)"
      ],
      "metadata": {
        "colab": {
          "base_uri": "https://localhost:8080/"
        },
        "id": "emW5yP4dKbq6",
        "outputId": "e54bea5d-118d-4484-9156-9978e396c6b3"
      },
      "execution_count": null,
      "outputs": [
        {
          "output_type": "stream",
          "name": "stdout",
          "text": [
            "+---------+--------+------------------+-----------+--------------+----------+----------+-------------+------------------+---------------+\n",
            "|longitude|latitude|housing_median_age|total_rooms|total_bedrooms|population|households|median_income|median_house_value|top_house_value|\n",
            "+---------+--------+------------------+-----------+--------------+----------+----------+-------------+------------------+---------------+\n",
            "|  -122.05|   37.37|              27.0|     3885.0|         661.0|    1537.0|     606.0|       6.6085|          344700.0|           true|\n",
            "|  -117.81|   33.78|              27.0|     3589.0|         507.0|    1484.0|     495.0|       5.7934|          270500.0|           true|\n",
            "|  -117.03|   32.97|              16.0|     3936.0|         694.0|    1935.0|     659.0|       4.5625|          231200.0|           true|\n",
            "+---------+--------+------------------+-----------+--------------+----------+----------+-------------+------------------+---------------+\n",
            "only showing top 3 rows\n",
            "\n"
          ]
        }
      ]
    },
    {
      "cell_type": "code",
      "source": [
        "# filtering distinct rows\n",
        "df_transformed = df_transformed.distinct()\n",
        "df_transformed.show(3)"
      ],
      "metadata": {
        "colab": {
          "base_uri": "https://localhost:8080/"
        },
        "id": "60KzNWaAMh7m",
        "outputId": "6eeb5ec3-f4fb-4c69-edd9-90877dfb0b29"
      },
      "execution_count": null,
      "outputs": [
        {
          "output_type": "stream",
          "name": "stdout",
          "text": [
            "+---------+--------+------------------+-----------+--------------+----------+----------+-------------+------------------+---------------+\n",
            "|longitude|latitude|housing_median_age|total_rooms|total_bedrooms|population|households|median_income|median_house_value|top_house_value|\n",
            "+---------+--------+------------------+-----------+--------------+----------+----------+-------------+------------------+---------------+\n",
            "|  -122.09|    37.7|              33.0|     4413.0|        1107.0|    2239.0|    1051.0|       2.9861|          208200.0|           true|\n",
            "|  -122.45|   37.74|              38.0|     5688.0|         930.0|    2263.0|     908.0|        6.203|          346800.0|           true|\n",
            "|  -118.32|   34.08|              52.0|     2370.0|         473.0|    1053.0|     434.0|       4.1429|          380300.0|           true|\n",
            "+---------+--------+------------------+-----------+--------------+----------+----------+-------------+------------------+---------------+\n",
            "only showing top 3 rows\n",
            "\n"
          ]
        }
      ]
    },
    {
      "cell_type": "code",
      "source": [
        "df_transformed = df_transformed.na.drop()"
      ],
      "metadata": {
        "id": "DSwRUmh5M5fW"
      },
      "execution_count": null,
      "outputs": []
    },
    {
      "cell_type": "code",
      "source": [
        "df_transformed = df_transformed.na.drop('any')"
      ],
      "metadata": {
        "id": "xjQjEX2eQ2z4"
      },
      "execution_count": null,
      "outputs": []
    },
    {
      "cell_type": "code",
      "source": [
        "df_transformed = df_transformed.na.drop(\"all\", subset=[\"population\", \"households\"])"
      ],
      "metadata": {
        "id": "L_jEpCVdRF2I"
      },
      "execution_count": null,
      "outputs": []
    },
    {
      "cell_type": "code",
      "source": [
        "df_transformed.show()"
      ],
      "metadata": {
        "colab": {
          "base_uri": "https://localhost:8080/"
        },
        "collapsed": true,
        "id": "2Dnz9-6gScTK",
        "outputId": "0efeaf29-c237-4784-ba06-d2c528261d94"
      },
      "execution_count": null,
      "outputs": [
        {
          "output_type": "stream",
          "name": "stdout",
          "text": [
            "+---------+--------+------------------+-----------+--------------+----------+----------+-------------+------------------+---------------+\n",
            "|longitude|latitude|housing_median_age|total_rooms|total_bedrooms|population|households|median_income|median_house_value|top_house_value|\n",
            "+---------+--------+------------------+-----------+--------------+----------+----------+-------------+------------------+---------------+\n",
            "|  -122.09|    37.7|              33.0|     4413.0|        1107.0|    2239.0|    1051.0|       2.9861|          208200.0|           true|\n",
            "|  -122.45|   37.74|              38.0|     5688.0|         930.0|    2263.0|     908.0|        6.203|          346800.0|           true|\n",
            "|  -118.32|   34.08|              52.0|     2370.0|         473.0|    1053.0|     434.0|       4.1429|          380300.0|           true|\n",
            "|  -118.35|   33.99|              48.0|     2741.0|         439.0|    1115.0|     459.0|       5.0514|          269100.0|           true|\n",
            "|  -119.19|   34.22|              26.0|     3175.0|         736.0|    2460.0|     775.0|        3.125|          219900.0|           true|\n",
            "|  -121.93|   37.72|              26.0|     3816.0|         637.0|    1935.0|     642.0|       4.4697|          221300.0|           true|\n",
            "|  -118.19|   34.12|              46.0|     3387.0|         820.0|    2833.0|     813.0|        2.987|          176900.0|           true|\n",
            "|   -122.5|   37.75|              46.0|     2298.0|         457.0|    1429.0|     477.0|       4.0217|          272400.0|           true|\n",
            "|  -121.33|    38.6|              25.0|     4260.0|         607.0|    1635.0|     640.0|       6.2817|          288200.0|           true|\n",
            "|  -118.28|   34.02|              29.0|      515.0|         229.0|    2690.0|     217.0|       0.4999|          500001.0|           true|\n",
            "|  -118.02|   33.82|              21.0|     2052.0|         456.0|    1173.0|     432.0|       3.7885|          204500.0|           true|\n",
            "|  -118.26|   34.11|              47.0|     2183.0|         510.0|    1445.0|     503.0|       3.6667|          210900.0|           true|\n",
            "|  -121.93|   37.27|              28.0|     3428.0|         753.0|    1753.0|     729.0|       4.1033|          281000.0|           true|\n",
            "|  -117.87|   34.15|              24.0|     5745.0|         735.0|    2061.0|     679.0|       8.2827|          451400.0|           true|\n",
            "|  -122.51|   37.92|              32.0|     2622.0|         541.0|    1022.0|     464.0|       3.7647|          375000.0|           true|\n",
            "|  -118.55|    34.2|              31.0|     1963.0|         420.0|    1494.0|     415.0|       3.5313|          211800.0|           true|\n",
            "|  -118.41|    34.0|              35.0|     1062.0|         305.0|    1026.0|     307.0|       2.7153|          265500.0|           true|\n",
            "|  -122.66|   38.47|              20.0|     2806.0|         477.0|    1369.0|     460.0|         4.75|          190500.0|           true|\n",
            "|  -118.75|   34.29|              17.0|     5512.0|         765.0|    2734.0|     814.0|       6.6073|          258100.0|           true|\n",
            "|  -122.45|   37.77|              52.0|     2339.0|         548.0|    1090.0|     507.0|       3.3679|          350000.0|           true|\n",
            "+---------+--------+------------------+-----------+--------------+----------+----------+-------------+------------------+---------------+\n",
            "only showing top 20 rows\n",
            "\n"
          ]
        }
      ]
    },
    {
      "cell_type": "markdown",
      "source": [
        "\n",
        "\n",
        "# Row Operations"
      ],
      "metadata": {
        "id": "uUUHGat1TEG2"
      }
    },
    {
      "cell_type": "code",
      "source": [
        "#first dataframe\n",
        "df_1 = (spark.read\n",
        "  .format(\"csv\")\n",
        "  .option(\"header\", True)\n",
        "  .option(\"inferSchema\", True)\n",
        "  .load(\"/content/sample_data/california_housing_test.csv\")\n",
        ")\n",
        "display(df_1)"
      ],
      "metadata": {
        "colab": {
          "base_uri": "https://localhost:8080/",
          "height": 52
        },
        "id": "XWwUHo2qTKSV",
        "outputId": "b80eba04-4d63-49ca-e5d8-c3212535bacb"
      },
      "execution_count": null,
      "outputs": [
        {
          "output_type": "display_data",
          "data": {
            "text/plain": [
              "DataFrame[longitude: double, latitude: double, housing_median_age: double, total_rooms: double, total_bedrooms: double, population: double, households: double, median_income: double, median_house_value: double]"
            ]
          },
          "metadata": {}
        }
      ]
    },
    {
      "cell_type": "code",
      "source": [
        "#second dataframe\n",
        "df_2 = (spark.read\n",
        "  .format(\"csv\")\n",
        "  .option(\"header\", True)\n",
        "  .option(\"inferSchema\", True)\n",
        "  .load(\"/content/sample_data/california_housing_train.csv\")\n",
        ")\n",
        "display(df_2)"
      ],
      "metadata": {
        "colab": {
          "base_uri": "https://localhost:8080/",
          "height": 52
        },
        "id": "fR84TtFjTQkp",
        "outputId": "cf585e4f-7960-43f5-d2cd-28ccc64c2f51"
      },
      "execution_count": null,
      "outputs": [
        {
          "output_type": "display_data",
          "data": {
            "text/plain": [
              "DataFrame[longitude: double, latitude: double, housing_median_age: double, total_rooms: double, total_bedrooms: double, population: double, households: double, median_income: double, median_house_value: double]"
            ]
          },
          "metadata": {}
        }
      ]
    },
    {
      "cell_type": "code",
      "source": [
        "# union\n",
        "df = df_1.union(df_2)"
      ],
      "metadata": {
        "id": "CSTB5fgwT1x0"
      },
      "execution_count": null,
      "outputs": []
    },
    {
      "cell_type": "code",
      "source": [
        "# union all\n",
        "df_union_all = df_1.unionAll(df_2)"
      ],
      "metadata": {
        "id": "S6UzpyKHT8uc"
      },
      "execution_count": null,
      "outputs": []
    },
    {
      "cell_type": "code",
      "source": [
        "df.show(3)"
      ],
      "metadata": {
        "colab": {
          "base_uri": "https://localhost:8080/"
        },
        "id": "viHQwiw9VJpi",
        "outputId": "25fd3101-4596-457a-97b5-c458b2a465a1"
      },
      "execution_count": null,
      "outputs": [
        {
          "output_type": "stream",
          "name": "stdout",
          "text": [
            "+---------+--------+------------------+-----------+--------------+----------+----------+-------------+------------------+\n",
            "|longitude|latitude|housing_median_age|total_rooms|total_bedrooms|population|households|median_income|median_house_value|\n",
            "+---------+--------+------------------+-----------+--------------+----------+----------+-------------+------------------+\n",
            "|  -122.05|   37.37|              27.0|     3885.0|         661.0|    1537.0|     606.0|       6.6085|          344700.0|\n",
            "|   -118.3|   34.26|              43.0|     1510.0|         310.0|     809.0|     277.0|        3.599|          176500.0|\n",
            "|  -117.81|   33.78|              27.0|     3589.0|         507.0|    1484.0|     495.0|       5.7934|          270500.0|\n",
            "+---------+--------+------------------+-----------+--------------+----------+----------+-------------+------------------+\n",
            "only showing top 3 rows\n",
            "\n"
          ]
        }
      ]
    },
    {
      "cell_type": "code",
      "source": [
        "df = df.orderBy(col(\"median_income\"))\n",
        "df.show(3)"
      ],
      "metadata": {
        "colab": {
          "base_uri": "https://localhost:8080/"
        },
        "id": "3-tKHKIcUDW4",
        "outputId": "f53cead2-4fda-4c09-89ea-1d58fce981ca"
      },
      "execution_count": null,
      "outputs": [
        {
          "output_type": "stream",
          "name": "stdout",
          "text": [
            "+---------+--------+------------------+-----------+--------------+----------+----------+-------------+------------------+\n",
            "|longitude|latitude|housing_median_age|total_rooms|total_bedrooms|population|households|median_income|median_house_value|\n",
            "+---------+--------+------------------+-----------+--------------+----------+----------+-------------+------------------+\n",
            "|  -118.28|   34.02|              29.0|      515.0|         229.0|    2690.0|     217.0|       0.4999|          500001.0|\n",
            "|  -117.75|   34.06|              52.0|       62.0|           9.0|      44.0|      16.0|       0.4999|          112500.0|\n",
            "|  -118.28|   33.93|              52.0|      117.0|          33.0|      74.0|      45.0|       0.4999|           90600.0|\n",
            "+---------+--------+------------------+-----------+--------------+----------+----------+-------------+------------------+\n",
            "only showing top 3 rows\n",
            "\n"
          ]
        }
      ]
    },
    {
      "cell_type": "code",
      "source": [
        "df = df.sort(col(\"households\").desc())\n",
        "df.show(3)"
      ],
      "metadata": {
        "colab": {
          "base_uri": "https://localhost:8080/"
        },
        "id": "jvA4X1YwUFSM",
        "outputId": "fad630a5-7c2d-4458-acbc-45176c4a6800"
      },
      "execution_count": null,
      "outputs": [
        {
          "output_type": "stream",
          "name": "stdout",
          "text": [
            "+---------+--------+------------------+-----------+--------------+----------+----------+-------------+------------------+\n",
            "|longitude|latitude|housing_median_age|total_rooms|total_bedrooms|population|households|median_income|median_house_value|\n",
            "+---------+--------+------------------+-----------+--------------+----------+----------+-------------+------------------+\n",
            "|  -121.79|   36.64|              11.0|    32627.0|        6445.0|   28566.0|    6082.0|       2.3087|          118800.0|\n",
            "|  -117.74|   33.89|               4.0|    37937.0|        5471.0|   16122.0|    5189.0|       7.4947|          366300.0|\n",
            "|  -117.78|   34.03|               8.0|    32054.0|        5290.0|   15507.0|    5050.0|       6.0191|          253900.0|\n",
            "+---------+--------+------------------+-----------+--------------+----------+----------+-------------+------------------+\n",
            "only showing top 3 rows\n",
            "\n"
          ]
        }
      ]
    },
    {
      "cell_type": "code",
      "source": [
        "df = df.sort(col(\"households\").desc(), col(\"total_bedrooms\").asc())\n",
        "df.show(3)"
      ],
      "metadata": {
        "colab": {
          "base_uri": "https://localhost:8080/"
        },
        "id": "a-5kwft0XJfz",
        "outputId": "37be568f-52fe-41d9-ac55-5c49a49c41a5"
      },
      "execution_count": null,
      "outputs": [
        {
          "output_type": "stream",
          "name": "stdout",
          "text": [
            "+---------+--------+------------------+-----------+--------------+----------+----------+-------------+------------------+\n",
            "|longitude|latitude|housing_median_age|total_rooms|total_bedrooms|population|households|median_income|median_house_value|\n",
            "+---------+--------+------------------+-----------+--------------+----------+----------+-------------+------------------+\n",
            "|  -121.79|   36.64|              11.0|    32627.0|        6445.0|   28566.0|    6082.0|       2.3087|          118800.0|\n",
            "|  -117.74|   33.89|               4.0|    37937.0|        5471.0|   16122.0|    5189.0|       7.4947|          366300.0|\n",
            "|  -117.78|   34.03|               8.0|    32054.0|        5290.0|   15507.0|    5050.0|       6.0191|          253900.0|\n",
            "+---------+--------+------------------+-----------+--------------+----------+----------+-------------+------------------+\n",
            "only showing top 3 rows\n",
            "\n"
          ]
        }
      ]
    },
    {
      "cell_type": "markdown",
      "source": [
        "# Joining Dataframes"
      ],
      "metadata": {
        "id": "j80j_mjRYT9D"
      }
    },
    {
      "cell_type": "code",
      "source": [
        "df_1.show(2)"
      ],
      "metadata": {
        "id": "xGgvS-aIYHqG",
        "colab": {
          "base_uri": "https://localhost:8080/"
        },
        "outputId": "59901384-84ca-457e-d7c0-cea6ea454df8"
      },
      "execution_count": null,
      "outputs": [
        {
          "output_type": "stream",
          "name": "stdout",
          "text": [
            "+---------+--------+------------------+-----------+--------------+----------+----------+-------------+------------------+\n",
            "|longitude|latitude|housing_median_age|total_rooms|total_bedrooms|population|households|median_income|median_house_value|\n",
            "+---------+--------+------------------+-----------+--------------+----------+----------+-------------+------------------+\n",
            "|  -122.05|   37.37|              27.0|     3885.0|         661.0|    1537.0|     606.0|       6.6085|          344700.0|\n",
            "|   -118.3|   34.26|              43.0|     1510.0|         310.0|     809.0|     277.0|        3.599|          176500.0|\n",
            "+---------+--------+------------------+-----------+--------------+----------+----------+-------------+------------------+\n",
            "only showing top 2 rows\n",
            "\n"
          ]
        }
      ]
    },
    {
      "cell_type": "code",
      "source": [
        "df_2.show(2)"
      ],
      "metadata": {
        "colab": {
          "base_uri": "https://localhost:8080/"
        },
        "id": "52v-kb4j4FzY",
        "outputId": "ce8bc2ff-9b8f-4e67-8738-854f4aef1914"
      },
      "execution_count": null,
      "outputs": [
        {
          "output_type": "stream",
          "name": "stdout",
          "text": [
            "+---------+--------+------------------+-----------+--------------+----------+----------+-------------+------------------+\n",
            "|longitude|latitude|housing_median_age|total_rooms|total_bedrooms|population|households|median_income|median_house_value|\n",
            "+---------+--------+------------------+-----------+--------------+----------+----------+-------------+------------------+\n",
            "|  -114.31|   34.19|              15.0|     5612.0|        1283.0|    1015.0|     472.0|       1.4936|           66900.0|\n",
            "|  -114.47|    34.4|              19.0|     7650.0|        1901.0|    1129.0|     463.0|         1.82|           80100.0|\n",
            "+---------+--------+------------------+-----------+--------------+----------+----------+-------------+------------------+\n",
            "only showing top 2 rows\n",
            "\n"
          ]
        }
      ]
    },
    {
      "cell_type": "code",
      "source": [
        "df_joined = df_1.join(\n",
        "    df_2,\n",
        "    on = (df_1['housing_median_age'] == df_2['housing_median_age']) & (df_1['housing_median_age'] > 25) ,\n",
        "    how = \"inner\"\n",
        ")"
      ],
      "metadata": {
        "id": "wtDOSEpZ4jMT"
      },
      "execution_count": null,
      "outputs": []
    },
    {
      "cell_type": "code",
      "source": [
        "df_joined.show(2)"
      ],
      "metadata": {
        "colab": {
          "base_uri": "https://localhost:8080/"
        },
        "id": "9TKSDkpP5hL8",
        "outputId": "0840702d-d7a3-4e07-c05a-fa914859153f"
      },
      "execution_count": null,
      "outputs": [
        {
          "output_type": "stream",
          "name": "stdout",
          "text": [
            "+---------+--------+------------------+-----------+--------------+----------+----------+-------------+------------------+---------+--------+------------------+-----------+--------------+----------+----------+-------------+------------------+\n",
            "|longitude|latitude|housing_median_age|total_rooms|total_bedrooms|population|households|median_income|median_house_value|longitude|latitude|housing_median_age|total_rooms|total_bedrooms|population|households|median_income|median_house_value|\n",
            "+---------+--------+------------------+-----------+--------------+----------+----------+-------------+------------------+---------+--------+------------------+-----------+--------------+----------+----------+-------------+------------------+\n",
            "|  -121.92|   36.95|              29.0|     3457.0|         699.0|    1327.0|     563.0|       3.6597|          252300.0|  -114.58|   33.63|              29.0|     1387.0|         236.0|     671.0|     239.0|       3.3438|           74000.0|\n",
            "|  -122.11|   37.14|              29.0|     3201.0|         640.0|    1722.0|     570.0|       4.4597|          204100.0|  -114.58|   33.63|              29.0|     1387.0|         236.0|     671.0|     239.0|       3.3438|           74000.0|\n",
            "+---------+--------+------------------+-----------+--------------+----------+----------+-------------+------------------+---------+--------+------------------+-----------+--------------+----------+----------+-------------+------------------+\n",
            "only showing top 2 rows\n",
            "\n"
          ]
        }
      ]
    },
    {
      "cell_type": "markdown",
      "source": [
        "# Aggregattion"
      ],
      "metadata": {
        "id": "hR8KcVC_6Ix_"
      }
    },
    {
      "cell_type": "code",
      "source": [
        "df_1.show(1)"
      ],
      "metadata": {
        "colab": {
          "base_uri": "https://localhost:8080/"
        },
        "id": "3bCgU4E-6Gyo",
        "outputId": "6c9eaffc-4f06-457b-dd01-60b210248df5"
      },
      "execution_count": null,
      "outputs": [
        {
          "output_type": "stream",
          "name": "stdout",
          "text": [
            "+---------+--------+------------------+-----------+--------------+----------+----------+-------------+------------------+\n",
            "|longitude|latitude|housing_median_age|total_rooms|total_bedrooms|population|households|median_income|median_house_value|\n",
            "+---------+--------+------------------+-----------+--------------+----------+----------+-------------+------------------+\n",
            "|  -122.05|   37.37|              27.0|     3885.0|         661.0|    1537.0|     606.0|       6.6085|          344700.0|\n",
            "+---------+--------+------------------+-----------+--------------+----------+----------+-------------+------------------+\n",
            "only showing top 1 row\n",
            "\n"
          ]
        }
      ]
    },
    {
      "cell_type": "code",
      "source": [
        "df_agg = df_1.groupBy(\"housing_median_age\").agg(avg(df_1['total_rooms']))"
      ],
      "metadata": {
        "id": "4j6ajtfM5lak"
      },
      "execution_count": null,
      "outputs": []
    },
    {
      "cell_type": "code",
      "source": [
        "\n",
        "df_agg.show(5)\n"
      ],
      "metadata": {
        "colab": {
          "base_uri": "https://localhost:8080/"
        },
        "id": "QLKbszp09QWR",
        "outputId": "fe7d53d6-b4a3-40d0-b056-a2444f26fc04"
      },
      "execution_count": null,
      "outputs": [
        {
          "output_type": "stream",
          "name": "stdout",
          "text": [
            "+------------------+------------------+\n",
            "|housing_median_age|  avg(total_rooms)|\n",
            "+------------------+------------------+\n",
            "|               8.0|           3311.52|\n",
            "|               7.0|           3718.25|\n",
            "|              49.0|1492.8095238095239|\n",
            "|              29.0| 2524.306666666667|\n",
            "|              47.0|            1786.5|\n",
            "+------------------+------------------+\n",
            "only showing top 5 rows\n",
            "\n"
          ]
        }
      ]
    },
    {
      "cell_type": "code",
      "source": [
        "df_agg = df_agg.withColumnRenamed(\"housing_median_age\" , \"avg_total_rooms\")"
      ],
      "metadata": {
        "id": "UaIokjmV9RUG"
      },
      "execution_count": null,
      "outputs": []
    },
    {
      "cell_type": "code",
      "source": [
        "df_agg.show(5)"
      ],
      "metadata": {
        "colab": {
          "base_uri": "https://localhost:8080/"
        },
        "id": "w1P79SCq-IYi",
        "outputId": "51a5967b-76bf-4563-87cc-2045df867c5e"
      },
      "execution_count": null,
      "outputs": [
        {
          "output_type": "stream",
          "name": "stdout",
          "text": [
            "+---------------+------------------+\n",
            "|avg_total_rooms|  avg(total_rooms)|\n",
            "+---------------+------------------+\n",
            "|            8.0|           3311.52|\n",
            "|            7.0|           3718.25|\n",
            "|           49.0|1492.8095238095239|\n",
            "|           29.0| 2524.306666666667|\n",
            "|           47.0|            1786.5|\n",
            "+---------------+------------------+\n",
            "only showing top 5 rows\n",
            "\n"
          ]
        }
      ]
    },
    {
      "cell_type": "markdown",
      "source": [
        "# Chained code"
      ],
      "metadata": {
        "id": "OwzLoMrZ-2RV"
      }
    },
    {
      "cell_type": "code",
      "source": [
        "df_chained = (df_1.filter(col(\"housing_median_age\") > 20)\n",
        "             .groupBy(col(\"housing_median_age\"))\n",
        "             .agg(avg(col(\"total_rooms\")).alias(\"total_rooms\"))\n",
        "             .sort(col(\"housing_median_age\").desc())\n",
        "              )"
      ],
      "metadata": {
        "id": "cYCvgR7s-sks"
      },
      "execution_count": null,
      "outputs": []
    },
    {
      "cell_type": "code",
      "source": [
        "df_chained.show(10)"
      ],
      "metadata": {
        "colab": {
          "base_uri": "https://localhost:8080/"
        },
        "id": "9bsZsORnDY0_",
        "outputId": "858ef499-65ae-4c5b-c477-53c352d9779c"
      },
      "execution_count": null,
      "outputs": [
        {
          "output_type": "stream",
          "name": "stdout",
          "text": [
            "+------------------+------------------+\n",
            "|housing_median_age|       total_rooms|\n",
            "+------------------+------------------+\n",
            "|              52.0|1831.2196531791908|\n",
            "|              51.0| 1641.909090909091|\n",
            "|              50.0|         1779.3125|\n",
            "|              49.0|1492.8095238095239|\n",
            "|              48.0|1648.8823529411766|\n",
            "|              47.0|            1786.5|\n",
            "|              46.0|2031.6097560975609|\n",
            "|              45.0|1677.4901960784314|\n",
            "|              44.0|1862.4901960784314|\n",
            "|              43.0|1842.3392857142858|\n",
            "+------------------+------------------+\n",
            "only showing top 10 rows\n",
            "\n"
          ]
        }
      ]
    }
  ]
}